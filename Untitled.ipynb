{
 "cells": [
  {
   "cell_type": "code",
   "execution_count": 1,
   "id": "fcb9c825",
   "metadata": {},
   "outputs": [],
   "source": [
    "with open('story.txt', encoding=\"utf8\") as file:\n",
    "    lines = file.read()"
   ]
  },
  {
   "cell_type": "code",
   "execution_count": 2,
   "id": "bfcf366f",
   "metadata": {},
   "outputs": [],
   "source": [
    "words_list = lines.lower().split(\"\\n\")\n",
    "new_words = lines.replace('\\n', ' ')"
   ]
  },
  {
   "cell_type": "code",
   "execution_count": 3,
   "id": "f732ec99",
   "metadata": {},
   "outputs": [
    {
     "data": {
      "text/plain": [
       "['once, there was a boy who became bored when he watched over the village sheep grazing on the hillside. to entertain himself, he sang out, “wolf! wolf! the wolf is chasing the sheep!”',\n",
       " '',\n",
       " 'when the villagers heard the cry, they came running up the hill to drive the wolf away. but, when they arrived, they saw no wolf. the boy was amused when seeing their angry faces.',\n",
       " '',\n",
       " '“don’t scream wolf, boy,” warned the villagers, “when there is no wolf!” they angrily went back down the hill.',\n",
       " '',\n",
       " 'later, the shepherd boy cried out once again, “wolf! wolf! the wolf is chasing the sheep!” to his amusement, he looked on as the villagers came running up the hill to scare the wolf away.',\n",
       " '',\n",
       " 'as they saw there was no wolf, they said strictly, “save your frightened cry for when there really is a wolf! don’t cry ‘wolf’ when there is no wolf!” but the boy grinned at their words while they walked grumbling down the hill once more.',\n",
       " '',\n",
       " 'later, the boy saw a real wolf sneaking around his flock. alarmed, he jumped on his feet and cried out as loud as he could, “wolf! wolf!” but the villagers thought he was fooling them again, and so they didn’t come to help.',\n",
       " '',\n",
       " 'at sunset, the villagers went looking for the boy who hadn’t returned with their sheep. when they went up the hill, they found him weeping.',\n",
       " '',\n",
       " '“there really was a wolf here! the flock is gone! i cried out, ‘wolf!’ but you didn’t come,” he wailed.',\n",
       " '',\n",
       " 'an old man went to comfort the boy. as he put his arm around him, he said, “nobody believes a liar, even when he is telling the truth!”',\n",
       " '',\n",
       " 'there once was a king named midas who did a good deed for a satyr. and he was then granted a wish by dionysus, the god of wine.',\n",
       " '',\n",
       " 'for his wish, midas asked that whatever he touched would turn to gold. despite dionysus’ efforts to prevent it, midas pleaded that this was a fantastic wish, and so, it was bestowed.',\n",
       " '',\n",
       " 'excited about his newly-earned powers, midas started touching all kinds of things, turning each item into pure gold.',\n",
       " '',\n",
       " 'but soon, midas became hungry. as he picked up a piece of food, he found he couldn’t eat it. it had turned to gold in his hand.',\n",
       " '',\n",
       " 'hungry, midas groaned, “i’ll starve! perhaps this was not such an excellent wish after all!”',\n",
       " '',\n",
       " 'seeing his dismay, midas’ beloved daughter threw her arms around him to comfort him, and she, too, turned to gold. “the golden touch is no blessing,” midas cried.',\n",
       " '',\n",
       " 'one day, a fox became very hungry as he went to search for some food. he searched high and low, but couldn’t find something that he could eat.',\n",
       " '',\n",
       " 'finally, as his stomach rumbled, he stumbled upon a farmer’s wall. at the top of the wall, he saw the biggest, juiciest grapes he’d ever seen. they had a rich, purple color, telling the fox they were ready to be eaten.',\n",
       " '',\n",
       " 'to reach the grapes, the fox had to jump high in the air. as he jumped, he opened his mouth to catch the grapes, but he missed. the fox tried again but missed yet again.',\n",
       " '',\n",
       " 'he tried a few more times but kept failing.',\n",
       " '',\n",
       " 'finally, the fox decided it was time to give up and go home. while he walked away, he muttered, “i’m sure the grapes were sour anyway.”',\n",
       " '',\n",
       " 'once upon a time, in a desert far away, there was a rose who was so proud of her beautiful looks. her only complaint was growing next to an ugly cactus.',\n",
       " '',\n",
       " 'every day, the beautiful rose would insult and mock the cactus on his looks, all while the cactus remained quiet. all the other plants nearby tried to make the rose see sense, but she was too swayed by her own looks.',\n",
       " '',\n",
       " 'one scorching summer, the desert became dry, and there was no water left for the plants. the rose quickly began to wilt. her beautiful petals dried up, losing their lush color.',\n",
       " '',\n",
       " 'looking to the cactus, she saw a sparrow dip his beak into the cactus to drink some water. though ashamed, the rose asked the cactus if she could have some water. the kind cactus readily agreed, helping them both through the tough summer, as friends.',\n",
       " '',\n",
       " 'one day, molly the milkmaid had filled her pails with milk. her job was to milk the cows, and then bring the milk to the market to sell. molly loved to think about what to spend her money on.',\n",
       " '',\n",
       " 'as she filled the pails with milk and went to market, she again thought of all the things she wanted to buy. as she walked along the road, she thought of buying a cake and a basket full of fresh strawberries.',\n",
       " '',\n",
       " 'a little further down the road, she spotted a chicken. she thought, “with the money i get from today, i’m going to buy a chicken of my own. that chicken will lay eggs, then i will be able to sell milk and eggs and get more money!”',\n",
       " '',\n",
       " 'she continued, “with more money, i will be able to buy a fancy dress and make all the other milkmaids jealous.” out of excitement, molly started skipping, forgetting about the milk in her pails. soon, the milk started spilling over the edges, covering molly.',\n",
       " '',\n",
       " 'drenched, molly said to herself, “oh no! i will never have enough money to buy a chicken now.” she went home with her empty pails.',\n",
       " '',\n",
       " '“oh, my goodness! what happened to you?” molly’s mother asked.',\n",
       " '',\n",
       " '“i was too busy dreaming about all the things i wanted to buy that i forgot about the pails,” she answered.',\n",
       " '',\n",
       " '“oh, molly, my dear. how many times do i need to say, ‘don’t count your chickens until they hatch?’”',\n",
       " '',\n",
       " 'one day, two friends were walking through the forest. they knew the forest was a dangerous place and that anything could happen. so, they promised to remain close to each other in case of any danger.',\n",
       " '',\n",
       " 'all of a sudden, a big bear was approaching them. one of the friends quickly climbed a nearby tree, leaving the other friend behind.',\n",
       " '',\n",
       " 'the other friend did not know how to climb, and instead, followed common sense. he laid down on the ground and remained there, breathless, pretending to be dead.',\n",
       " '',\n",
       " 'the bear approached the friend lying on the ground. the animal started to smell his ear before slowly wandering off again because bears never touch those who are dead.',\n",
       " '',\n",
       " 'soon, the friend who hid in the tree came down. he asked his friend, “my dear friend, what secret did the bear whisper to you?” the friend replied, “the bear simply advised me never to believe a false friend.”',\n",
       " 'there once was an old miser who lived in a house with a garden. the old miser used to hide all his gold coins under stones in his garden.',\n",
       " '',\n",
       " 'every night, before he went to bed, the miser went out into his garden to count his coins. he continued the same routine every day, but he never spent a single, golden coin.',\n",
       " '',\n",
       " 'one day, a thief saw the old miser hiding his coins. once the old miser went back into his house, the thief went to the hiding place and took all the gold.',\n",
       " '',\n",
       " 'the following day, as the old man came out to count his coins, he found it was gone and started wailing loudly. his neighbor heard the cries and came running, asking what had happened. upon learning what had occurred, the neighbor asked, “why didn’t you just save the money inside your house where it would’ve been safe?”',\n",
       " '',\n",
       " 'the neighbor continued, “having it inside the house would make it easier to access when you need to buy something.” “buy something?” answered the miser, “i was never going to spend my gold.”',\n",
       " '',\n",
       " 'when hearing this, the neighbor picked up a stone and threw it. then, he said, “if that’s the case, then save the stone. it’s as worthless as the gold you’ve lost.”',\n",
       " '',\n",
       " 'a mother dog and her pups lived on a farm. on the farm, there was a well. the mother dog always told her pups never to go near or play around it.',\n",
       " '',\n",
       " 'one day, one of the pups was overcome by curiosity and wondered why they weren’t allowed to go near the well. so, he decided he wanted to explore it.',\n",
       " '',\n",
       " 'he went down to the well and climbed up the wall to peek inside. in the well, he saw his reflection in the water but thought it was another dog. the little pup got angry when his reflection was imitating him, so he decided to fight it.',\n",
       " '',\n",
       " 'the little pup jumped into the well, only to find there was no dog. he began to bark and bark until the farmer came to rescue him. the pup had learned his lesson and never went back to the well again.',\n",
       " 'once, there was a young boy. this boy had problems controlling his anger. when he got angry, he would say the first thing that came to mind, even if it affected people.',\n",
       " '',\n",
       " 'one day, his father gifted him a hammer and a bundle of nails, then said, “whenever you get mad, hammer a nail into the backyard fence.”',\n",
       " '',\n",
       " 'in the first days, the boy used up half of the nails. over the next weeks, he used up fewer nails, until his temper was under control. then, his father asked the young boy to remove a nail for each day he didn’t lose his temper.',\n",
       " '',\n",
       " 'on the day when the boy removed his last nail, his father told him, “you have done good, boy. but, can you see the holes in the wall? the fence is never going to be the same. likewise, when you say mean things in anger, you’ll leave a scar.”',\n",
       " 'once, there was a man who visited foreign lands. when he returned, all he could talk about was the wonderful adventures he had and the great deeds he had done.',\n",
       " '',\n",
       " 'one of the feats he told was about a leap he made in a city called rhodes.',\n",
       " '',\n",
       " '“the leap was so great,” the man said. “no other man can make such a leap. many persons in rhodes saw me and can prove i am telling the truth.”',\n",
       " '',\n",
       " '“no need for witnesses,” said one who was listening. “suppose that this city is rhodes, now show how far you can jump.”',\n",
       " 'a wolf had gotten seriously hurt during a fight with a bear. he wasn’t able to move, and so, could not satisfy his thirst or hunger.',\n",
       " '',\n",
       " 'one day, a sheep passed by his hiding place, and so the wolf decided to call out to him. “please fetch me some water,” said the wolf. “that might give me some strength to get some solid food.”',\n",
       " '',\n",
       " '“solid food!” the sheep said. “i suppose that means me. if i brought you something to drink, it would merely be to wash me down. don’t speak to me about fetching a drink.”',\n",
       " 'a farmer asked his son to take their herd of sheep grazing every day.',\n",
       " 'while the boy watched over the sheep, he got bored and decided to have some fun.',\n",
       " 'so, he shouted, “wolf! wolf!”. upon hearing this the villagers ran to help him chase the wolf away.',\n",
       " 'as they reached him, they realized that there was no wolf and he was just kidding. the villagers were furious and they yelled at the boy for creating chaos and panic.',\n",
       " 'on the next day and the boy shouted “wolf!” again and once again the villagers came to help him and saw that there was no wolf. this made them very angry again.',\n",
       " 'on the same day, the boy saw an actual wolf that has terrorizing the sheep. the boy cried “wolf! wolf! please help me” and no villagers showed up as they believed that the boy was joking again.',\n",
       " 'three little pigs was sent out into the world by their mother to learn.',\n",
       " '',\n",
       " 'the three pigs, all decided to build a house on their own.',\n",
       " \"the first pig built a house of straw because he didn't want to put in a lot of effort and was lazy.\",\n",
       " 'the second pig was a little less lazy than the first and he made a house of sticks.',\n",
       " 'the third pig was hardworking and he put in lots of effort and built a house of brick and stone.',\n",
       " 'one day a wolf came to attack them. he huffed and puffed and blew the house of straw.',\n",
       " 'he then huffed and puffed and blew the house the sticks.',\n",
       " 'he huffed and puffed and huffed and puffed at the house of bricks but eventually was out of breath and left.',\n",
       " 'moral of the story',\n",
       " 'always work hard and it will pay off. don’t try to take shortcuts to make things work.',\n",
       " '',\n",
       " 'once there was a fox and a stork. the fox was selfish but he decided to invite the stork for dinner. the stork was extremely happy to be invited and she reached his house on time.',\n",
       " '',\n",
       " \"the fox opened the door and invited her in. they sat on the table; the fox served her some soup in shallow bowls. while the fox licked up his soup, the stork couldn't drink it because she has a long beak and the bowl was too shallow.\",\n",
       " '',\n",
       " 'the next day, the stork invited the fox over for dinner. she served him soup as well but in two narrow vases. while the stork enjoyed her soup and finished it, the fox went home very hungry realizing his mistake.',\n",
       " 'the ant and the grasshopper were best friends with very different personalities.',\n",
       " 'the grasshopper would spend his days sleeping or playing his guitar while the ant would collect food and build his ant hill. ',\n",
       " '',\n",
       " '',\n",
       " 'every now and then, the grasshopper would tell the ant to take a break. however, the ant would refuse and continue to complete his work.',\n",
       " '',\n",
       " '',\n",
       " 'soon winter came making the days and nights cold. one day the colony of ants were busy trying to dry some grains of corn. the grasshopper who was extremely weak and hungry came up to the ants and asked \"can you please give me a piece of corn?\" the ant replied \"we worked hard for this corn all summer while you relaxed, why should we give it to you?\"',\n",
       " '',\n",
       " '',\n",
       " \"the grasshopper was so busy singing and sleeping  that he didn't have enough food to last winter. the grasshopper realized his mistake.\",\n",
       " 'one day in akbar’s court someone asked the question, \"how many crows are there in the city?\", no one had the answer.',\n",
       " 'birbal quickly replied \"four thousand three hundred and twelve\". he was asked how did he know this?',\n",
       " 'birbal send \" send your man out to count the crows. if it is lesser than this number then some crows are visiting their families elsewhere and if it is more than this number, then some crows from outside are visiting their families here. akbar was very happy with the answer and showered birbal with gifts for his wit.',\n",
       " 'this is a story from panchatantra.',\n",
       " 'a monkey lived on a berry tree on the river bank. once he saw a crocodile under the tree who looked hungry and tired. he gave the crocodile some berries, the crocodile thanked the monkey and became one of his friends. ',\n",
       " 'the monkey would give berries to the crocodile every day. one day the monkey even gave the crocodile extra berries to take to his wife.',\n",
       " \"his wife enjoyed the berries but told her husband that she wanted to eat the monkey's heart. she was a wicked and cunning woman. the crocodile was upset, but he decided that he needed to make his wife happy.\",\n",
       " \"on the next day, the crocodile went to the monkey and said that his wife had called him for dinner. the crocodile carried the monkey on his back across the river. he told this monkey his wife's plan. \",\n",
       " 'the monkey had to think quickly if he wanted to save himself. he told the crocodile that he left his heart at on the berry tree and that they needed to return.',\n",
       " 'on reaching the monkey climbed the tree and spoke. \"i\\'m not getting down; you betrayed my trust and that means our friendship is over\"',\n",
       " \"one day, a wealthy man came to akbar's court in hope to get help from birbal. the man suspected that one of his servants had stolen from him.\",\n",
       " '',\n",
       " '',\n",
       " 'the clever birbal thought of a plan and gave all the merchant’s servants sticks of the same length. he also told them that the stick will grow three inches by tomorrow if they were the thief.',\n",
       " '',\n",
       " '',\n",
       " 'the next day, all the servants gathered around birbal. he noticed that one of the servant’s sticks was three inches shorter than the others. birbal immediately understood who the thief was.',\n",
       " '',\n",
       " '',\n",
       " 'the thief had cut the stick shorter by three inches as he thought it would grow three inches. because of this his guilt was proven',\n",
       " 'a poor brahmin lived in a village all alone. he had no friends or relatives. he was known for being stingy and he used to beg for a living. the food he got as alms were kept in an earthen pot which was hung beside his bed. this allowed him to easily access the food when he got hungry.  ',\n",
       " '',\n",
       " '',\n",
       " 'on one day, he got so much rice gruel that even after completing his meal, there was so much leftover in his pot. that night, he dreamt that his pot was overflowing with rice gruel and that if a famine came, he could sell the food and earn silver from it. this silver could then be used to buy a pair of goats who would soon have kids and create a herd. this herd in turn could be traded for buffaloes who would give milk from which he could make dairy products. these products could be sold in the market for more money.',\n",
       " '',\n",
       " '',\n",
       " 'this money would help him get married to a rich woman and together they would have a son who he could scold and love in equal measure. he dreamt that when his son wouldn’t listen, he would run after him with a stick.',\n",
       " 'wrapped up in his dream the brahmin picked up the stick near his bed and started hitting  the air with the stick. while flailing about, he hit the earthen pot with the stick, the pot broke and all the contents spilled over him. the brahmin woke up with a start only to realize that everything was a dream.',\n",
       " 'an old stork lived on the side of a fish pond. he was too old to fish any longer, and he had to come up with an idea for food. suddenly, he had a great idea.',\n",
       " 'he stood in the water with a sad face. a crab came up to him and ask him why he was so unhappy.',\n",
       " '',\n",
       " '',\n",
       " 'the stork said \"i\\'ve heard that this pond is going to dry up soon and now i have to fly away to another pond.\"',\n",
       " 'concerned, the crab asked the stork to save the animals in the pond as well.',\n",
       " 'he would take a couple of fish in his beak and fly away towards another pond. once he would reach far out of sight the pond, he would eat them. he did this many times.',\n",
       " '',\n",
       " '',\n",
       " 'now it was the crab’s turn. as they were flying the crab looked down but could not see a pond however he saw a lot of fish bones. the crab immediately realized what was happening and grabbed the stork’s throat tight with his sharp claws. the stork struggled to get free. but the crab held on. soon the stork fell to the ground. the crab crawled back to his pond to tell the story to the rest of the pond creatures.',\n",
       " '',\n",
       " 'once there was an adventurous jackal who frequently strayed into the village looking for food. the village was filled with dogs that scared the jackal. although he was scared of the dogs, the jackal loved food and travelled to the city again and again.',\n",
       " '',\n",
       " '',\n",
       " 'one day, as he was going to enter a house, he heard barking. he was shocked to find a gang of dogs running towards the house. they looked violent and caused the jackal to panic. he ran and tumbled into a tub of blue dye. the dogs couldn’t see him and they ran another way.',\n",
       " '',\n",
       " '',\n",
       " 'now the jackal was completely blue from head to toe. he appeared very different from any other animal. the jackal was pleased as no one would be able to recognize him and he could easily fool anyone in the jungle.',\n",
       " 'just like he had thought, everyone in the jungle was surprised to see such an unusual animal.',\n",
       " '',\n",
       " '',\n",
       " 'the small animals, the lion and the tiger all asked who he was and who had sent him.',\n",
       " '“i have been sent by god himself to look after you. i will now be the king of the jungle” the jackal said.',\n",
       " '',\n",
       " '',\n",
       " 'the lion protested saying he had always been the king of the forest.',\n",
       " '“from now, that must change and all of you must serve me” the jackal happily said.',\n",
       " '',\n",
       " '',\n",
       " 'some animals like the tiger protested and asked what would happen if they didn’t obey him. he replied saying god would destroy the entire jungle if they didn’t.',\n",
       " '',\n",
       " '',\n",
       " 'scared for their lives and their jungle, the animals asked the blue jackal what he would like them to do.',\n",
       " '“bring me lots of food” said the blue jackal promptly.',\n",
       " 'the animals quickly scurried and returned with lots of food for the jackal.',\n",
       " 'he had so much food that he gave his leftovers to the other animals and told them that they had to serve him fresh food every day.',\n",
       " 'he even threw out the pack of jackals from the forest because he knew that they could identify him some day.',\n",
       " '',\n",
       " '',\n",
       " 'the blue jackal was very happy with himself for fooling the entire forest and was happy to be away from the city dogs.',\n",
       " 'but one day the banned pack of jackals was walking around the forest and howling loudly. the blue jackal began howling out of habit too.',\n",
       " 'because of this mistake, the other animals quickly identified him as a jackal and destroyed him.',\n",
       " '',\n",
       " 'after flying a long distance, a thirsty crow was wandering the forest in search of water. finally, he saw a pot half-filled with water. he tried to drink from it but his beak wasn’t long enough to reach the water inside. he then saw pebbles on the ground and one by one, he put them in the pot until the water rose to the brim. the crow then hastily drank from it and quenched his thirst.',\n",
       " '',\n",
       " 'once there was a hungry fox who stumbled upon a vineyard. after seeing the round, juicy grapes hanging in a bunch, the fox drooled. but no matter how high he jumped, he couldn’t reach for it. so he told himself that it was probably sour and left. that night, he had to sleep on an empty stomach.',\n",
       " '',\n",
       " 'most of us have probably heard of this story as this is one of the most popular fairy tales in the world. the story revolves around a duckling who from the moment of his birth has always felt different from his siblings. he was always picked on because he didn’t look like the rest of them. one day, he had enough and ran away from the pond he grew up in. he wandered near and far looking for a family who would accept him. months passed and seasons changed but everywhere he went, nobody wanted him because he was such an ugly duck. then one day, he came upon a family of swans. upon looking at them, he realized that during the months he spent looking for a family to call his own, he had grown into a beautiful swan. now he finally understood why he never looked like the rest of his siblings because he isn’t a duck but a swan.',\n",
       " '',\n",
       " 'moral of the story:',\n",
       " '',\n",
       " 'we shouldn’t be too quick to judge others based on their physical appearance. just because someone doesn’t fit societal definitions of beauty doesn’t mean they’re ugly. each of us is beautiful in our own unique way and it’s time we accept and celebrate that individuality.',\n",
       " '',\n",
       " 'there was once a slave who was treated cruelly by his master. one day, he couldn’t take it anymore and ran away to the forest to escape. there he chanced upon a lion who couldn’t walk because of the thorn in its paw. although he’s scared, the slave mustered his courage and took out the thorn in the lion’s paw. when the lion was finally free of the thorn, he ran into the forest and didn’t harm the slave. sometime later, the slave was caught by his master along with some animals in the forest. the master then ordered the slave to be thrown into the lion’s den. when the slave saw the lion, he recognized it as the same lion he helped in the forest. the slave was able to escape the den unharmed and he freed all the other animals.',\n",
       " '',\n",
       " 'this english story for kids is about king midas. in ancient greece, there resided a very wealthy king, midas. he had everything he could have ever asked for and more, along with a beautiful daughter whom he held dear to his heart, even more than his riches.',\n",
       " '',\n",
       " 'a day came where silenus, a satyr loyal to the god of wine and celebration, dionysus, passed out in midas’ garden. since midas believed that satyrs brought him good luck, he went against the wishes of his family and let silenus rest in his palace until he awoke again.',\n",
       " '',\n",
       " 'when dionysus heard about midas’ act of kindness towards his friend, he decided to grant the wealthy king a wish. midas wished that anything he touches must turn to gold. even though dionysus was aware that this was a recipe for disaster, he granted the wish anyway. midas was ecstatic – he went around touching the most random things in the garden and palace to turn them into gold. when he picked up an apple, it turned into a shiny gold apple. all the courtiers were very fascinated.',\n",
       " '',\n",
       " 'midas had never been happier…in all his excitement, he hugged his daughter, forgetting that anything he touched would turn to gold! hence, his daughter took the form of a lifeless, gold statue. realizing what he had done, midas ran to dionysus and begged god to save his daughter. complying with his wish, dionysus saved his daughter and took away all of midas’ powers too, claiming that it was for the best. midas had learned his lesson and lived the rest of his days satisfied with what he had.',\n",
       " 'this story revolves around young girl samaira, a young girl with caramel skin who loves the colour brown. one night, she tumbles into a magical realm where she encounters a dilemma pertaining to the colour of her skin, in which she has never seen any flaws.',\n",
       " '',\n",
       " 'a strange purple lady with magic powers, anahi, makes samaira a very unusual offer. she tells samaira that if she’d like, the purple lady could lighten the colour of her skin. this did not appeal to samaira whatsoever! in fact, she elaborated why she took pride in her skin tone, the way her mother had always taught her to. each time the purple lady offers samaira lighter skin, she respectfully declines and expresses that her self-worth and beauty cannot be defined by the colour of her skin.',\n",
       " '',\n",
       " 'this mature reaction sets a great example for kids reading the story as it teaches them to be patient and reject an idea in a respectful manner when it doesn’t align with their beliefs. samaira’s assertiveness is inspirational and is an uplifting example of standing up for what you believe is right.',\n",
       " '',\n",
       " 'the story in simple english is extremely insightful and a must read for both, children and adults. it addresses one of the world’s most complex issues – unrealistic beauty standards. the book does this in a very appropriate manner that will stimulate a child’s mind – thereby acting as a tool in shaping their core beliefs. it is an empowering tale for all those who have faced issues with discrimination. it paves a path to self-confidence for these individuals. join samaira on her journey of self-discovery up on the fluffy cloud in the getlitt! library.',\n",
       " '',\n",
       " 'read brown like dosas samosas & sticky chikki ',\n",
       " '',\n",
       " 'udhata, a thin donkey who was starved by his owner, a local fisherman, went in search of food with his friend, a jackal. the pair wandered around the village in the middle of the night until they stumbled upon a cucumber field. that night, they truly relished their meal and decided to pay a visit to the cucumber field every night. udhata eventually began to look much healthier and was able to pick up more load.',\n",
       " '',\n",
       " 'once, after an appetizing and wholesome meal of cucumbers, the donkey insisted on singing. knowing that this was foolish, the jackal advised him against the same but the stubborn donkey refused to listen to his friend. even when the jackal told the donkey that his voice wasn’t exactly sweet, udhata dismissed his comment – thinking that the jackal was jealous. he told the jackal that he was happy, and there’s nothing wrong in expressing one’s happiness. once again, the jackal warned him of his foolish behaviour and of bringing trouble upon himself by disturbing the guards. however, the foolish donkey would not budge.',\n",
       " '',\n",
       " 'when the donkey started to sing, the jackal interrupted and asked the donkey to wait until the jackal jumps over the other side of the fence for his own safety. the jackal decided to wait outside. on hearing the loud braying noise made by the donkey, the guard naturally awoke from his slumber. when he spotted udhata, the guard beat him black and blue mercilessly. he didn’t hold back whatsoever and channelled all of his anger onto the donkey who was truly regretting not taking his friend’s advice. once he was done, the donkey could barely move. yet, he somehow dragged his limp body out of the field, where the jackal had been waiting for him. his friend had a sympathetic look on his face as he said, “i told you so.”',\n",
       " '',\n",
       " 'once upon a time, a clever monkey resided on a tree that bore fresh, luscious berries. a day arrived when a crocodile swam up to the tree and told the monkey that he had travelled a very long distance and was extremely exhausted from his journey. the crocodile had been in search of food and was very hungry. on hearing this, the kind monkey offered him a few berries for which the crocodile was very thankful. he asked the monkey if he could visit him again soon for some fruit. the monkey happily agreed.',\n",
       " '',\n",
       " 'the crocodile came back the next day, and the day after that. soon, this became a daily ritual and they grew to become good friends. as all friends do, they discussed the goings-ons of their lives and confided in each other.  the crocodile told the monkey about his wife who lived on the other side of the river. so, the generous monkey offered the crocodile some extra berries to take home for his wife.',\n",
       " '',\n",
       " 'the crocodile and the monkey continued to grow closer as friends and they ate berries together. the monkey would often give the crocodiles extra berries to take home for his wife. because of how close the two friends had become, the crocodile’s wife started growing jealous. she wanted to put an end to their friendship. she thought to herself that if the monkey survived on a diet of the tasty berries, his flesh must be really sweet. so, she asked the crocodile to invite his friend over to dinner. the crocodile refused because he knew that his wife was up to some nasty trick. however, she was determined to eat the monkey’s flesh.',\n",
       " '',\n",
       " 'she pretended to fall ill and told the crocodile that her doctor claims that the only thing that would keep her from dying is a monkey’s heart. on hearing this, the crocodile rushed to the monkey’s tree and lied to him saying that his wife had prepared them a delicious dinner. the monkey happily agreed and climbed onto the crocodile’s back. halfway through, the monkey noticed that the crocodile began to sink. frightened, the monkey asked his friend why he was doing that. the crocodile explained the situation truthfully.',\n",
       " '',\n",
       " 'the clever monkey told him that this was an unfortunate situation because he had left his heart at home. if the crocodile took him back, he would gladly give his heart away to nurse the crocodile’s wife back to health. the silly crocodile fell for the monkey’s clever lie and rushed back to the tree so that he could take the monkey’s heart. as soon as they reached, the monkey hastily scampered up to safety and told the crocodile to tell his wife that she had married a fool!',\n",
       " '',\n",
       " 'this beautifully animated story deals with the closeted topic of death in a very skilful way. it revolves around noorie, whose world collapses completely after her sister zoya passes away. everything in her once stable life feels shaken up.',\n",
       " '',\n",
       " 'the story picks up when her mother claims that zoya was always going to be with her, in spirit at least, but noorie couldn’t help feeling an emptiness from within. her coping mechanism leads her to see flashes of her dead sister in unexpected places.',\n",
       " '',\n",
       " 'the illustrations in the story are very powerful and convey a sense of darkness yet hope throughout the book. losing a sibling is extremely horrifying and disturbing. noorie’s emotional rollercoaster conveys all the stages of grief in a child-friendly manner and introduces the concept of death very intelligently.',\n",
       " '',\n",
       " 'it shows that sharing your thoughts and feelings with someone close to you will lighten your chest and give you mental peace. this is really important as it prevents children from shrinking into a shell in order to deal with their sadness. richa jha, the author, has written the book considering all the factors that could affect a child dealing with grief. for all the children out there with siblings, this is the perfect read to make them realize each others’ value and will lead to greater realisation of gratitude in their lives.',\n",
       " '',\n",
       " 'written by richa jha and illustrated by gautam benegal, the unboy boy is a moving account of diversity, gender, and stereotypes revolving around a lovely, gentle, and sensitive boy named gagan.',\n",
       " '',\n",
       " 'gagan is not your stereotypical boy and that’s because he has a so-called ‘feminine’ side. his interests which include gazing at the view from his bedroom window or looking after ant hills differ from indulging in war stories and imaginary swordplay like the other boys. he is labelled as “unboy’-ish due to the lack of his participation in typically masculine activities. a label that is used by his brother, his friends, other school children and even his grandfather – all of whom try to turn him into more of a ‘boy’.',\n",
       " '',\n",
       " '‘unboy’ is just one of the many names he is called, others being  “sissy”, a “chooha” or “little mouse”, “scaredy cat.” his only pillar of support is his mother, who encourages him to stay true to himself. even though he was being told to act like someone he is not by society, he continues to be himself and takes pride in who he is.',\n",
       " '',\n",
       " 'in the book, there are times where he can’t help but feel excluded and targeted but he doesn’t let it get in the way of his kind nature and gentle personality. despite being alienated by those who were meant to support him and love him, he never feels the need to apologise for his identity because at the end of the day, he knows that in his heart, he is a good human being. however, things change for gagan when an unexpected incident happens. you’re probably wondering what that is. well we don’t want to give away any spoilers – you’ll just have to read the book to find out!',\n",
       " '',\n",
       " 'this story is an inspirational account of a boy named kartik who “lives, breathes and dreams football.” his world revolves around the game and even though he is one-armed, kartik is really good at the game.',\n",
       " '',\n",
       " 'when kartik and his sister, kavya, move from kolkata to rourkela, they’re very upset over moving to a new place and leaving behind their close friends. it was especially frightening for kartik because he knew that the people at his new school would judge him for having a disability. unfortunately, he is treated as an outcast, as a freak even though he is just one of them, trying hard to make a friend.',\n",
       " '',\n",
       " 'however, what really tears him apart is his football coach refusing to let him be on the football team. the football field was the one place where he felt like the best version of himself. the only place where he felt a true sense of belonging and now, it felt like his home was snatched away from him. will kartik be able to beat the odds and convince the coach of his dedication to the game? trust us this book will help teach your child the value of a good moral of never giving up.',\n",
       " 'this is the story of four learned and knowledgeable friends. well, the fourth one, subuddhi, wasn’t exactly well educated or insightful in any sense but he possessed the one quality that his intellectual friends did not: common sense.',\n",
       " '',\n",
       " 'a day arrived when three of the friends decided to go looking for jobs in distant towns and villages. they wanted monetary gain for their knowledge. after all, there was no use of being so learned in scriptures and sciences if they were not going to gain anything back from it. the three friends did not wish to take subuddhi along because of his lack of intellect but since he was an old childhood friend, they decided to invite him too.',\n",
       " '',\n",
       " 'the four friends set out on a long journey, moving from one town to another in search of a way to earn money. while passing through a dense forest, they discovered a bunch of bones lying under a tree. they decided that a fine opportunity to display their powers had presented itself.',\n",
       " '',\n",
       " 'the first friend used his skills to assemble the bones into a skeleton. when the skeleton was ready, the second friend chanted a mantra, which lead to the formation of flesh and meat on the skeleton. it looked like a lifeless lion. just as the third friend was about to end the show by bringing the lion back to life, the fourth friend stopped him. subuddhi knew that once the ferocious lion was brought back to life, it wouldn’t spare them.',\n",
       " '',\n",
       " 'however, the third friend ignored his advice, made fun of him and went ahead with something that was clearly a bad idea. subuddhi quickly climbed up a tree nearby to protect himself as the third friend began to chant, thereby bringing the lion back to life. as predicted by the fourth friend, the lion killed all three of the learned friends while subuddhi rushed back to the village, alive.',\n",
       " '',\n",
       " '']"
      ]
     },
     "execution_count": 3,
     "metadata": {},
     "output_type": "execute_result"
    }
   ],
   "source": [
    "words_list"
   ]
  },
  {
   "cell_type": "code",
   "execution_count": null,
   "id": "14a07f34",
   "metadata": {},
   "outputs": [],
   "source": []
  },
  {
   "cell_type": "code",
   "execution_count": 4,
   "id": "249a5dc8",
   "metadata": {},
   "outputs": [],
   "source": [
    "import tensorflow as tf   "
   ]
  },
  {
   "cell_type": "code",
   "execution_count": 5,
   "id": "8e4acc1c",
   "metadata": {},
   "outputs": [
    {
     "data": {
      "text/plain": [
       "5"
      ]
     },
     "execution_count": 5,
     "metadata": {},
     "output_type": "execute_result"
    }
   ],
   "source": [
    "a = 5\n",
    "a\n"
   ]
  },
  {
   "cell_type": "code",
   "execution_count": 6,
   "id": "d7c437e1",
   "metadata": {},
   "outputs": [],
   "source": [
    "\n",
    "gpus = tf.config.experimental.list_physical_devices('GPU')\n",
    "if gpus:\n",
    "  try:\n",
    "    tf.config.experimental.set_virtual_device_configuration(gpus[0], [tf.config.experimental.VirtualDeviceConfiguration(memory_limit=1024)])\n",
    "  except RuntimeError as e:\n",
    "    print(e)"
   ]
  },
  {
   "cell_type": "code",
   "execution_count": 7,
   "id": "72e9ce62",
   "metadata": {},
   "outputs": [
    {
     "data": {
      "text/plain": [
       "[PhysicalDevice(name='/physical_device:GPU:0', device_type='GPU')]"
      ]
     },
     "execution_count": 7,
     "metadata": {},
     "output_type": "execute_result"
    }
   ],
   "source": [
    "tf.config.list_physical_devices('GPU')"
   ]
  },
  {
   "cell_type": "code",
   "execution_count": 8,
   "id": "635b40e9",
   "metadata": {},
   "outputs": [],
   "source": [
    "\n",
    "import numpy as np"
   ]
  },
  {
   "cell_type": "code",
   "execution_count": 125,
   "id": "4b364763",
   "metadata": {},
   "outputs": [],
   "source": [
    "text_tokenizer = tf.keras.preprocessing.text.Tokenizer()"
   ]
  },
  {
   "cell_type": "code",
   "execution_count": 126,
   "id": "52272d00",
   "metadata": {},
   "outputs": [],
   "source": [
    "text_tokenizer.fit_on_texts(words_list)    "
   ]
  },
  {
   "cell_type": "code",
   "execution_count": 127,
   "id": "1567a2a1",
   "metadata": {},
   "outputs": [],
   "source": [
    "inpt_list = []\n",
    "for line in words_list:\n",
    "    token_texet = text_tokenizer.texts_to_sequences([line])[0]\n",
    "    for i in range(1, len(token_texet)):\n",
    "        inpt_list.append(token_texet[:i+1])"
   ]
  },
  {
   "cell_type": "code",
   "execution_count": 128,
   "id": "d1ada197",
   "metadata": {},
   "outputs": [
    {
     "data": {
      "text/plain": [
       "293"
      ]
     },
     "execution_count": 128,
     "metadata": {},
     "output_type": "execute_result"
    }
   ],
   "source": [
    "len(words_list)"
   ]
  },
  {
   "cell_type": "code",
   "execution_count": null,
   "id": "10998525",
   "metadata": {},
   "outputs": [],
   "source": []
  },
  {
   "cell_type": "code",
   "execution_count": 129,
   "id": "73ebdc0a",
   "metadata": {},
   "outputs": [],
   "source": [
    "max_sequence_len = max([len(x) for x in inpt_list])\n",
    "input_sequences = np.array(tf.keras.utils.pad_sequences(inpt_list, maxlen=max_sequence_len, padding='pre'))"
   ]
  },
  {
   "cell_type": "code",
   "execution_count": 130,
   "id": "fe0ec8ce",
   "metadata": {},
   "outputs": [
    {
     "data": {
      "text/plain": [
       "array([[   0,    0,    0, ...,    0,   41,   32],\n",
       "       [   0,    0,    0, ...,   41,   32,    8],\n",
       "       [   0,    0,    0, ...,   32,    8,    4],\n",
       "       ...,\n",
       "       [   0,    0,    0, ...,   61,    2,    1],\n",
       "       [   0,    0,    0, ...,    2,    1,  162],\n",
       "       [   0,    0,    0, ...,    1,  162, 1529]])"
      ]
     },
     "execution_count": 130,
     "metadata": {},
     "output_type": "execute_result"
    }
   ],
   "source": [
    "input_sequences"
   ]
  },
  {
   "cell_type": "code",
   "execution_count": 131,
   "id": "c575b455",
   "metadata": {},
   "outputs": [
    {
     "data": {
      "text/plain": [
       "162"
      ]
     },
     "execution_count": 131,
     "metadata": {},
     "output_type": "execute_result"
    }
   ],
   "source": [
    "max_sequence_len"
   ]
  },
  {
   "cell_type": "code",
   "execution_count": 132,
   "id": "38cf52dd",
   "metadata": {},
   "outputs": [],
   "source": [
    "predictors, label = input_sequences[:,:-1],input_sequences[:,-1]"
   ]
  },
  {
   "cell_type": "code",
   "execution_count": 144,
   "id": "63593d95",
   "metadata": {},
   "outputs": [
    {
     "data": {
      "text/plain": [
       "(6467, 161)"
      ]
     },
     "execution_count": 144,
     "metadata": {},
     "output_type": "execute_result"
    }
   ],
   "source": [
    "predictors.shape"
   ]
  },
  {
   "cell_type": "code",
   "execution_count": 134,
   "id": "7c44661e",
   "metadata": {},
   "outputs": [
    {
     "data": {
      "text/plain": [
       "array([  32,    8,    4, ...,    1,  162, 1529])"
      ]
     },
     "execution_count": 134,
     "metadata": {},
     "output_type": "execute_result"
    }
   ],
   "source": [
    "label"
   ]
  },
  {
   "cell_type": "code",
   "execution_count": 135,
   "id": "e5c7d72c",
   "metadata": {},
   "outputs": [
    {
     "data": {
      "text/plain": [
       "1530"
      ]
     },
     "execution_count": 135,
     "metadata": {},
     "output_type": "execute_result"
    }
   ],
   "source": [
    "total_words = len(text_tokenizer.word_index) + 1\n",
    "total_words"
   ]
  },
  {
   "cell_type": "code",
   "execution_count": 136,
   "id": "cf1ae0a4",
   "metadata": {},
   "outputs": [],
   "source": [
    "labels = tf.keras.utils.to_categorical(\n",
    "    label, num_classes=total_words, dtype='float32'\n",
    ")"
   ]
  },
  {
   "cell_type": "code",
   "execution_count": 137,
   "id": "4430b299",
   "metadata": {},
   "outputs": [],
   "source": [
    "embedding = tf.keras.layers.Embedding(input_dim=1000,\n",
    "                                     output_dim=64,\n",
    "                                     embeddings_initializer=\"uniform\",\n",
    "                                     input_length=16,\n",
    "                                     name=\"embedding\")"
   ]
  },
  {
   "cell_type": "code",
   "execution_count": 151,
   "id": "290035e2",
   "metadata": {},
   "outputs": [],
   "source": [
    "def Model():\n",
    "    input = tf.keras.Input(shape=(161,))\n",
    "    x = embedding(input)\n",
    "    x = tf.keras.layers.LSTM(128, return_sequences=True)(x)\n",
    "    x = tf.keras.layers.LSTM(64, return_sequences=True)(x)\n",
    "    x = tf.keras.layers.LSTM(32)(x)\n",
    "    x = tf.keras.layers.Dense(total_words//2, activation='relu')(x)\n",
    "    x = tf.keras.layers.Dense(total_words, activation='softmax')(x)\n",
    "    return tf.keras.Model(input, x)"
   ]
  },
  {
   "cell_type": "code",
   "execution_count": 152,
   "id": "358754d8",
   "metadata": {},
   "outputs": [],
   "source": [
    "Model = Model()\n"
   ]
  },
  {
   "cell_type": "code",
   "execution_count": 153,
   "id": "49948a9c",
   "metadata": {},
   "outputs": [],
   "source": [
    "optimizer = tf.keras.optimizers.Adam(learning_rate=0.001)"
   ]
  },
  {
   "cell_type": "code",
   "execution_count": 154,
   "id": "8a5fcf84",
   "metadata": {},
   "outputs": [],
   "source": [
    "Model.compile(loss=\"categorical_crossentropy\", optimizer=optimizer, metrics=[\"accuracy\"])"
   ]
  },
  {
   "cell_type": "code",
   "execution_count": 155,
   "id": "c1d0a943",
   "metadata": {},
   "outputs": [
    {
     "name": "stdout",
     "output_type": "stream",
     "text": [
      "Model: \"model_4\"\n",
      "_________________________________________________________________\n",
      " Layer (type)                Output Shape              Param #   \n",
      "=================================================================\n",
      " input_5 (InputLayer)        [(None, 161)]             0         \n",
      "                                                                 \n",
      " embedding (Embedding)       multiple                  64000     \n",
      "                                                                 \n",
      " lstm_12 (LSTM)              (None, 161, 128)          98816     \n",
      "                                                                 \n",
      " lstm_13 (LSTM)              (None, 161, 64)           49408     \n",
      "                                                                 \n",
      " lstm_14 (LSTM)              (None, 32)                12416     \n",
      "                                                                 \n",
      " dense_8 (Dense)             (None, 765)               25245     \n",
      "                                                                 \n",
      " dense_9 (Dense)             (None, 1530)              1171980   \n",
      "                                                                 \n",
      "=================================================================\n",
      "Total params: 1,421,865\n",
      "Trainable params: 1,421,865\n",
      "Non-trainable params: 0\n",
      "_________________________________________________________________\n"
     ]
    }
   ],
   "source": [
    "Model.summary()"
   ]
  },
  {
   "cell_type": "code",
   "execution_count": 159,
   "id": "2deaaab7",
   "metadata": {},
   "outputs": [
    {
     "name": "stdout",
     "output_type": "stream",
     "text": [
      "51/51 [==============================] - 2s 45ms/step - loss: 0.7972 - accuracy: 0.7804\n"
     ]
    }
   ],
   "source": [
    "epochs = 1\n",
    "Model_history = Model.fit(predictors,\n",
    "                          labels,\n",
    "                          epochs=epochs,\n",
    "                          verbose = 1,\n",
    "                         batch_size= 128)"
   ]
  },
  {
   "cell_type": "code",
   "execution_count": null,
   "id": "fcfbb7fd",
   "metadata": {},
   "outputs": [],
   "source": []
  },
  {
   "cell_type": "code",
   "execution_count": 107,
   "id": "51a690be",
   "metadata": {},
   "outputs": [
    {
     "name": "stderr",
     "output_type": "stream",
     "text": [
      "WARNING:absl:Found untraced functions such as lstm_cell_3_layer_call_fn, lstm_cell_3_layer_call_and_return_conditional_losses, lstm_cell_4_layer_call_fn, lstm_cell_4_layer_call_and_return_conditional_losses, lstm_cell_5_layer_call_fn while saving (showing 5 of 6). These functions will not be directly callable after loading.\n"
     ]
    },
    {
     "name": "stdout",
     "output_type": "stream",
     "text": [
      "INFO:tensorflow:Assets written to: D:\\code\\deep learning\\nlp\\poem generation\\saved_model\\assets\n"
     ]
    },
    {
     "name": "stderr",
     "output_type": "stream",
     "text": [
      "INFO:tensorflow:Assets written to: D:\\code\\deep learning\\nlp\\poem generation\\saved_model\\assets\n"
     ]
    }
   ],
   "source": []
  },
  {
   "cell_type": "code",
   "execution_count": null,
   "id": "1a65dde3",
   "metadata": {},
   "outputs": [],
   "source": [
    "#Model.load(\"D:\\\\code\\\\deep learning\\\\nlp\\\\poem generation\\\\saved_model\")"
   ]
  },
  {
   "cell_type": "code",
   "execution_count": 157,
   "id": "90797e43",
   "metadata": {},
   "outputs": [
    {
     "name": "stdout",
     "output_type": "stream",
     "text": [
      "1/1 [==============================] - 2s 2s/step\n",
      "1/1 [==============================] - 0s 51ms/step\n",
      "1/1 [==============================] - 0s 52ms/step\n",
      "1/1 [==============================] - 0s 50ms/step\n",
      "1/1 [==============================] - 0s 49ms/step\n",
      "1/1 [==============================] - 0s 53ms/step\n",
      "1/1 [==============================] - 0s 53ms/step\n",
      "1/1 [==============================] - 0s 47ms/step\n",
      "1/1 [==============================] - 0s 51ms/step\n",
      "1/1 [==============================] - 0s 48ms/step\n",
      "1/1 [==============================] - 0s 47ms/step\n",
      "1/1 [==============================] - 0s 47ms/step\n",
      "1/1 [==============================] - 0s 48ms/step\n",
      "1/1 [==============================] - 0s 50ms/step\n",
      "1/1 [==============================] - 0s 48ms/step\n",
      "1/1 [==============================] - 0s 46ms/step\n",
      "1/1 [==============================] - 0s 49ms/step\n",
      "1/1 [==============================] - 0s 48ms/step\n",
      "1/1 [==============================] - 0s 51ms/step\n",
      "1/1 [==============================] - 0s 48ms/step\n",
      "1/1 [==============================] - 0s 48ms/step\n",
      "1/1 [==============================] - 0s 47ms/step\n",
      "1/1 [==============================] - 0s 49ms/step\n",
      "1/1 [==============================] - 0s 50ms/step\n",
      "1/1 [==============================] - 0s 47ms/step\n",
      "1/1 [==============================] - 0s 47ms/step\n",
      "1/1 [==============================] - 0s 48ms/step\n",
      "1/1 [==============================] - 0s 53ms/step\n",
      "1/1 [==============================] - 0s 54ms/step\n",
      "1/1 [==============================] - 0s 48ms/step\n",
      "1/1 [==============================] - 0s 48ms/step\n",
      "1/1 [==============================] - 0s 51ms/step\n",
      "1/1 [==============================] - 0s 49ms/step\n",
      "1/1 [==============================] - 0s 49ms/step\n",
      "1/1 [==============================] - 0s 50ms/step\n",
      "1/1 [==============================] - 0s 49ms/step\n",
      "1/1 [==============================] - 0s 50ms/step\n",
      "1/1 [==============================] - 0s 47ms/step\n",
      "1/1 [==============================] - 0s 46ms/step\n",
      "1/1 [==============================] - 0s 49ms/step\n",
      "1/1 [==============================] - 0s 48ms/step\n",
      "1/1 [==============================] - 0s 50ms/step\n",
      "1/1 [==============================] - 0s 47ms/step\n",
      "1/1 [==============================] - 0s 48ms/step\n",
      "1/1 [==============================] - 0s 46ms/step\n",
      "1/1 [==============================] - 0s 51ms/step\n",
      "1/1 [==============================] - 0s 55ms/step\n",
      "1/1 [==============================] - 0s 46ms/step\n",
      "1/1 [==============================] - 0s 54ms/step\n",
      "1/1 [==============================] - 0s 47ms/step\n",
      "1/1 [==============================] - 0s 53ms/step\n",
      "1/1 [==============================] - 0s 50ms/step\n",
      "1/1 [==============================] - 0s 54ms/step\n",
      "1/1 [==============================] - 0s 47ms/step\n",
      "1/1 [==============================] - 0s 51ms/step\n",
      "1/1 [==============================] - 0s 56ms/step\n",
      "1/1 [==============================] - 0s 53ms/step\n",
      "1/1 [==============================] - 0s 47ms/step\n",
      "1/1 [==============================] - 0s 45ms/step\n",
      "1/1 [==============================] - 0s 48ms/step\n",
      "1/1 [==============================] - 0s 48ms/step\n",
      "1/1 [==============================] - 0s 51ms/step\n",
      "1/1 [==============================] - 0s 45ms/step\n",
      "1/1 [==============================] - 0s 47ms/step\n",
      "1/1 [==============================] - 0s 46ms/step\n",
      "1/1 [==============================] - 0s 48ms/step\n",
      "1/1 [==============================] - 0s 48ms/step\n",
      "1/1 [==============================] - 0s 50ms/step\n",
      "1/1 [==============================] - 0s 48ms/step\n",
      "1/1 [==============================] - 0s 51ms/step\n",
      "1/1 [==============================] - 0s 48ms/step\n",
      "1/1 [==============================] - 0s 52ms/step\n",
      "1/1 [==============================] - 0s 47ms/step\n",
      "1/1 [==============================] - 0s 50ms/step\n",
      "1/1 [==============================] - 0s 48ms/step\n",
      "1/1 [==============================] - 0s 49ms/step\n",
      "1/1 [==============================] - 0s 53ms/step\n",
      "1/1 [==============================] - 0s 48ms/step\n",
      "1/1 [==============================] - 0s 49ms/step\n",
      "1/1 [==============================] - 0s 48ms/step\n",
      "1/1 [==============================] - 0s 47ms/step\n",
      "1/1 [==============================] - 0s 48ms/step\n",
      "1/1 [==============================] - 0s 49ms/step\n",
      "1/1 [==============================] - 0s 54ms/step\n",
      "1/1 [==============================] - 0s 52ms/step\n",
      "1/1 [==============================] - 0s 50ms/step\n",
      "1/1 [==============================] - 0s 48ms/step\n",
      "1/1 [==============================] - 0s 46ms/step\n",
      "1/1 [==============================] - 0s 46ms/step\n",
      "1/1 [==============================] - 0s 49ms/step\n",
      "1/1 [==============================] - 0s 49ms/step\n",
      "1/1 [==============================] - 0s 52ms/step\n",
      "1/1 [==============================] - 0s 49ms/step\n",
      "1/1 [==============================] - 0s 50ms/step\n",
      "1/1 [==============================] - 0s 53ms/step\n",
      "1/1 [==============================] - 0s 54ms/step\n",
      "1/1 [==============================] - 0s 52ms/step\n",
      "1/1 [==============================] - 0s 53ms/step\n",
      "1/1 [==============================] - 0s 48ms/step\n",
      "1/1 [==============================] - 0s 48ms/step\n",
      "1/1 [==============================] - 0s 49ms/step\n",
      "1/1 [==============================] - 0s 46ms/step\n",
      "1/1 [==============================] - 0s 46ms/step\n",
      "1/1 [==============================] - 0s 55ms/step\n",
      "1/1 [==============================] - 0s 58ms/step\n",
      "1/1 [==============================] - 0s 47ms/step\n",
      "1/1 [==============================] - 0s 50ms/step\n",
      "1/1 [==============================] - 0s 46ms/step\n",
      "1/1 [==============================] - 0s 49ms/step\n",
      "1/1 [==============================] - 0s 47ms/step\n",
      "1/1 [==============================] - 0s 47ms/step\n",
      "1/1 [==============================] - 0s 47ms/step\n",
      "1/1 [==============================] - 0s 49ms/step\n",
      "1/1 [==============================] - 0s 50ms/step\n",
      "1/1 [==============================] - 0s 45ms/step\n",
      "1/1 [==============================] - 0s 48ms/step\n",
      "1/1 [==============================] - 0s 48ms/step\n",
      "1/1 [==============================] - 0s 46ms/step\n",
      "1/1 [==============================] - 0s 51ms/step\n",
      "1/1 [==============================] - 0s 47ms/step\n",
      "1/1 [==============================] - 0s 50ms/step\n",
      "1/1 [==============================] - 0s 47ms/step\n",
      "1/1 [==============================] - 0s 46ms/step\n",
      "1/1 [==============================] - 0s 51ms/step\n",
      "1/1 [==============================] - 0s 49ms/step\n",
      "1/1 [==============================] - 0s 55ms/step\n",
      "1/1 [==============================] - 0s 53ms/step\n",
      "1/1 [==============================] - 0s 49ms/step\n",
      "1/1 [==============================] - 0s 49ms/step\n",
      "1/1 [==============================] - 0s 45ms/step\n",
      "1/1 [==============================] - 0s 44ms/step\n",
      "1/1 [==============================] - 0s 47ms/step\n",
      "1/1 [==============================] - 0s 48ms/step\n",
      "1/1 [==============================] - 0s 42ms/step\n",
      "1/1 [==============================] - 0s 49ms/step\n",
      "1/1 [==============================] - 0s 46ms/step\n",
      "1/1 [==============================] - 0s 49ms/step\n",
      "1/1 [==============================] - 0s 50ms/step\n",
      "1/1 [==============================] - 0s 52ms/step\n",
      "1/1 [==============================] - 0s 51ms/step\n",
      "1/1 [==============================] - 0s 45ms/step\n",
      "1/1 [==============================] - 0s 45ms/step\n",
      "1/1 [==============================] - 0s 51ms/step\n",
      "1/1 [==============================] - 0s 50ms/step\n",
      "1/1 [==============================] - 0s 46ms/step\n",
      "1/1 [==============================] - 0s 48ms/step\n",
      "1/1 [==============================] - 0s 46ms/step\n",
      "1/1 [==============================] - 0s 46ms/step\n",
      "1/1 [==============================] - 0s 50ms/step\n",
      "1/1 [==============================] - 0s 47ms/step\n"
     ]
    }
   ],
   "source": [
    "seed_text = \"When i saw you i go ha ha \"\n",
    "next_words = 150\n",
    "  \n",
    "for _ in range(next_words):\n",
    "    predictedlist = []\n",
    "    token_list = text_tokenizer.texts_to_sequences([seed_text])[0]\n",
    "    token_list = tf.keras.preprocessing.sequence.pad_sequences([token_list], maxlen=max_sequence_len-1, padding='pre')\n",
    "    prediction=Model.predict(token_list) \n",
    "    predicted=np.argmax(prediction,axis=1)\n",
    "    predictedlist.append(predicted)\n",
    "    \n",
    "    output_word = \"\"\n",
    "    for word, index in text_tokenizer.word_index.items():\n",
    "        if index == predicted:\n",
    "            output_word = word\n",
    "            break\n",
    "    seed_text += \" \" + output_word\n"
   ]
  },
  {
   "cell_type": "code",
   "execution_count": 158,
   "id": "2b253a39",
   "metadata": {},
   "outputs": [
    {
     "data": {
      "text/plain": [
       "'When i saw you i go ha ha  ” he was going to dry that the third den now to remove and he never looked like the rest of his siblings while flailing was aware by lots of food he got so him he told a house to drive his coins to wait until the slave jumps under which excluded in one’s happiness happiness gratitude once again her skin like the tiger arrived on his pot by bringing into the world gold apple back the jackal were furious again the third friend was about and will you three efforts his friend’s advice what subuddhi did not regretting and twelve the wish under made to end the show by bringing the lion back to life the fourth friend stopped in subuddhi felt “nobody from a pair however the foolish version as he was too old in from all of he reached the show forest the stone over his house'"
      ]
     },
     "execution_count": 158,
     "metadata": {},
     "output_type": "execute_result"
    }
   ],
   "source": [
    "seed_text"
   ]
  },
  {
   "cell_type": "code",
   "execution_count": 102,
   "id": "382341e1",
   "metadata": {},
   "outputs": [],
   "source": [
    "\n",
    "\n",
    "\n",
    "\n"
   ]
  },
  {
   "cell_type": "code",
   "execution_count": 75,
   "id": "b534ab4b",
   "metadata": {},
   "outputs": [
    {
     "data": {
      "text/plain": [
       "(1, 3808)"
      ]
     },
     "execution_count": 75,
     "metadata": {},
     "output_type": "execute_result"
    }
   ],
   "source": [
    "prediction.shape"
   ]
  },
  {
   "cell_type": "code",
   "execution_count": 77,
   "id": "9edc28e8",
   "metadata": {},
   "outputs": [
    {
     "ename": "IndexError",
     "evalue": "index 1 is out of bounds for axis 0 with size 1",
     "output_type": "error",
     "traceback": [
      "\u001b[1;31m---------------------------------------------------------------------------\u001b[0m",
      "\u001b[1;31mIndexError\u001b[0m                                Traceback (most recent call last)",
      "Input \u001b[1;32mIn [77]\u001b[0m, in \u001b[0;36m<cell line: 1>\u001b[1;34m()\u001b[0m\n\u001b[1;32m----> 1\u001b[0m \u001b[43mprediction\u001b[49m\u001b[43m[\u001b[49m\u001b[38;5;241;43m1\u001b[39;49m\u001b[43m,\u001b[49m\u001b[43m \u001b[49m\u001b[38;5;241;43m0\u001b[39;49m\u001b[43m]\u001b[49m\n",
      "\u001b[1;31mIndexError\u001b[0m: index 1 is out of bounds for axis 0 with size 1"
     ]
    }
   ],
   "source": [
    "prediction[1, 0]"
   ]
  },
  {
   "cell_type": "code",
   "execution_count": null,
   "id": "32c99bc2",
   "metadata": {},
   "outputs": [],
   "source": []
  }
 ],
 "metadata": {
  "kernelspec": {
   "display_name": "Python (tensorflow)",
   "language": "python",
   "name": "tensorflow"
  },
  "language_info": {
   "codemirror_mode": {
    "name": "ipython",
    "version": 3
   },
   "file_extension": ".py",
   "mimetype": "text/x-python",
   "name": "python",
   "nbconvert_exporter": "python",
   "pygments_lexer": "ipython3",
   "version": "3.10.4"
  }
 },
 "nbformat": 4,
 "nbformat_minor": 5
}
